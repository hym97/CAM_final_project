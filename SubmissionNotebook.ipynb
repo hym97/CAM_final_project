{
 "cells": [
  {
   "cell_type": "code",
   "execution_count": 1,
   "id": "da681ba9",
   "metadata": {},
   "outputs": [],
   "source": [
    "from matplotlib import pyplot as plt\n",
    "from imblearn.ensemble import BalancedRandomForestClassifier\n",
    "import preprocessing.utils as utils\n",
    "import pandas as pd\n",
    "import numpy as np\n",
    "import seaborn as sns\n",
    "from sklearn.metrics import plot_confusion_matrix\n",
    "from sklearn.metrics import confusion_matrix"
   ]
  },
  {
   "cell_type": "markdown",
   "id": "ba26216f",
   "metadata": {},
   "source": [
    "### This notebook is for illustration purpose. Please visit https://github.com/hym97/CAM_final_project if you want to play with the model yourself"
   ]
  },
  {
   "cell_type": "markdown",
   "id": "63c28365",
   "metadata": {},
   "source": [
    "## Classification"
   ]
  },
  {
   "cell_type": "markdown",
   "id": "8098ba65",
   "metadata": {},
   "source": [
    "### Introduction\n",
    "\n",
    "This problem is a fraud detection problem. Where the False label occupies nearly 99% of the dataset, we can simply achieve 99% accuracy by making negative predictions for all the data. But it will not help us to detect fraud. Therefore, we must do something to the dataset.\n",
    "\n",
    "To address the problem, we can use techniques like **Undersampling**, **Oversampling**, or **Ensemble Learning**.\n",
    "\n",
    "We used balanced random forest in this implementation."
   ]
  },
  {
   "cell_type": "code",
   "execution_count": 2,
   "id": "3dd906f5",
   "metadata": {},
   "outputs": [],
   "source": [
    "df = pd.read_csv('./data/TrainingData.csv')\n",
    "X, Y = utils.pipeline(df)\n",
    "Y_regression = Y.values[:,0]\n",
    "Y = Y.values[:,1]\n",
    "data = np.c_[X,Y]\n",
    "np.random.shuffle(data)\n",
    "train, validate, test = np.split(data,[int(.6 * data.shape[0]), int(.8 * data.shape[0])])"
   ]
  },
  {
   "cell_type": "code",
   "execution_count": 3,
   "id": "9f346a28",
   "metadata": {},
   "outputs": [],
   "source": [
    "train_X, train_Y = train[:,:-1], train[:,-1]\n",
    "validate_X, validate_Y = validate[:,:-1], validate[:,-1]\n",
    "test_X, test_Y = test[:,:-1], test[:,-1]"
   ]
  },
  {
   "cell_type": "code",
   "execution_count": 4,
   "id": "3162446c",
   "metadata": {},
   "outputs": [],
   "source": [
    "brf = BalancedRandomForestClassifier(n_estimators=150, random_state=37)\n",
    "brf.fit(train_X,train_Y)\n",
    "predict_Y = brf.predict(validate_X)"
   ]
  },
  {
   "cell_type": "code",
   "execution_count": 5,
   "id": "240b800d",
   "metadata": {},
   "outputs": [
    {
     "name": "stderr",
     "output_type": "stream",
     "text": [
      "C:\\Users\\hymsh\\anaconda3\\envs\\CAMenv\\lib\\site-packages\\sklearn\\utils\\deprecation.py:87: FutureWarning: Function plot_confusion_matrix is deprecated; Function `plot_confusion_matrix` is deprecated in 1.0 and will be removed in 1.2. Use one of the class methods: ConfusionMatrixDisplay.from_predictions or ConfusionMatrixDisplay.from_estimator.\n",
      "  warnings.warn(msg, category=FutureWarning)\n",
      "C:\\Users\\hymsh\\anaconda3\\envs\\CAMenv\\lib\\site-packages\\sklearn\\utils\\deprecation.py:87: FutureWarning: Function plot_confusion_matrix is deprecated; Function `plot_confusion_matrix` is deprecated in 1.0 and will be removed in 1.2. Use one of the class methods: ConfusionMatrixDisplay.from_predictions or ConfusionMatrixDisplay.from_estimator.\n",
      "  warnings.warn(msg, category=FutureWarning)\n"
     ]
    },
    {
     "data": {
      "image/png": "[encoded data removed]",
      "text/plain": [
       "<Figure size 720x360 with 2 Axes>"
      ]
     },
     "metadata": {
      "needs_background": "light"
     },
     "output_type": "display_data"
    }
   ],
   "source": [
    "fig, axs = plt.subplots(ncols=2, figsize=(10, 5))\n",
    "\n",
    "plot_confusion_matrix(brf, validate_X, validate_Y, ax=axs[0], colorbar=False)\n",
    "axs[0].set_title(\"Balanced random forest (val)\")\n",
    "\n",
    "plot_confusion_matrix(brf, test_X, test_Y, ax=axs[1], colorbar=False)\n",
    "axs[1].set_title(\"Balanced random forest (test)\")\n",
    "plt.show()"
   ]
  },
  {
   "cell_type": "markdown",
   "id": "5ea45ee3",
   "metadata": {},
   "source": [
    "#### Remarks\n",
    "\n",
    "From the figures above, we can see many False Positive cases (24382, 24543), and the accuracy drops to 79%. However, in return, we can successfully detect fraud which is far more important than accuracy in reality."
   ]
  },
  {
   "cell_type": "code",
   "execution_count": 6,
   "id": "0ee162bc",
   "metadata": {},
   "outputs": [],
   "source": [
    "def calcualte_metrics(Y_predict, Y_labeled):\n",
    "    metrics = confusion_matrix(Y_predict, Y_labeled)\n",
    "    TPR = metrics[1,1] / (metrics[0,1] + metrics[1,1])\n",
    "    FPR = metrics[1,0] / (metrics[0,0] + metrics[1,0])\n",
    "    \n",
    "    return TPR, FPR"
   ]
  },
  {
   "cell_type": "markdown",
   "id": "6b5c3d0f",
   "metadata": {},
   "source": [
    "### Calculate the metric"
   ]
  },
  {
   "cell_type": "code",
   "execution_count": 7,
   "id": "8fe65aca",
   "metadata": {},
   "outputs": [
    {
     "name": "stdout",
     "output_type": "stream",
     "text": [
      "Performance on val set: TPR:0.82 FPR:0.21\n",
      "Performance on test set: TPR:0.84 FPR:0.21\n"
     ]
    }
   ],
   "source": [
    "predict_val, predict_test = brf.predict(validate_X), brf.predict(test_X)\n",
    "\n",
    "TPR_val, FPR_val = calcualte_metrics(predict_val, validate_Y)\n",
    "TPR_test, FPR_test = calcualte_metrics(predict_test, test_Y)\n",
    "\n",
    "print(\"Performance on val set: TPR:{:.2f} FPR:{:.2f}\".format(TPR_val,FPR_val))\n",
    "print(\"Performance on test set: TPR:{:.2f} FPR:{:.2f}\".format(TPR_test,FPR_test))"
   ]
  },
  {
   "cell_type": "markdown",
   "id": "472d99ab",
   "metadata": {},
   "source": [
    "## Regression"
   ]
  },
  {
   "cell_type": "markdown",
   "id": "775bcfae",
   "metadata": {},
   "source": [
    "### Introduction\n",
    "\n",
    "This problem is simply a regression problem. But the labeled data are highly skewed. We'd better use the log transformation to make NMONTHS columns more normally distributed to get better performance.\n",
    "\n",
    "There are many regression methods. However, considering I do not need much interoperability, I choose FFNN to make the prediction."
   ]
  },
  {
   "cell_type": "markdown",
   "id": "2f8b759b",
   "metadata": {},
   "source": [
    "#### Architecture\n",
    "\n",
    "FFNN_classifer(<br>\n",
    "  (layer1): Linear(in_features=49, out_features=64, bias=True)<br>\n",
    "  (layer2): Linear(in_features=64, out_features=128, bias=True)<br>\n",
    "  (layer3): Linear(in_features=128, out_features=10, bias=True)<br>\n",
    "  (layer4): Linear(in_features=10, out_features=1, bias=True)<br>\n",
    "  (dropout): Dropout(p=0.2, inplace=False)<br>\n",
    ")"
   ]
  },
  {
   "cell_type": "code",
   "execution_count": 8,
   "id": "398e6e53",
   "metadata": {},
   "outputs": [],
   "source": [
    "import torch\n",
    "import torch.nn as nn\n",
    "import torch.nn.functional as F\n",
    "import torch.optim as optim\n",
    "import math"
   ]
  },
  {
   "cell_type": "code",
   "execution_count": 9,
   "id": "069c06c9",
   "metadata": {},
   "outputs": [],
   "source": [
    "X, Y = utils.pipeline(df)\n",
    "Y_regression = Y.values[:,0]\n",
    "data = np.c_[X,Y_regression]\n",
    "np.random.shuffle(data)\n",
    "train, validate, test = np.split(data,\n",
    "                                [int(.6 * data.shape[0]), int(.8 * data.shape[0])])"
   ]
  },
  {
   "cell_type": "code",
   "execution_count": 10,
   "id": "511b18b3",
   "metadata": {},
   "outputs": [],
   "source": [
    "train_X, train_Y = train[:,:-1], np.log(train[:,-1])\n",
    "validate_X, validate_Y = validate[:,:-1], np.log(validate[:,-1])"
   ]
  },
  {
   "cell_type": "code",
   "execution_count": 11,
   "id": "d121d122",
   "metadata": {},
   "outputs": [],
   "source": [
    "class FFNN_classifer(nn.Module):\n",
    "    def __init__(self, input_size):\n",
    "        super(FFNN_classifer, self).__init__()\n",
    "        self.layer1 = nn.Linear(input_size, 64)\n",
    "        self.layer2 = nn.Linear(64, 128)\n",
    "        self.layer3 = nn.Linear(128, 10)\n",
    "        self.layer4 = nn.Linear(10, 1)\n",
    "        self.dropout = nn.Dropout(.2)\n",
    "        \n",
    "    def forward(self, input_data):\n",
    "        input_data =input_data.float()\n",
    "        output = self.layer1(input_data)\n",
    "        output = F.relu(output)\n",
    "\n",
    "        output = self.layer2(output)\n",
    "        output = F.relu(output)\n",
    "\n",
    "        output = self.layer3(output)\n",
    "        output = F.relu(output)\n",
    "        output = self.dropout(output)\n",
    "\n",
    "        output = self.layer4(output)\n",
    "\n",
    "        return output"
   ]
  },
  {
   "cell_type": "code",
   "execution_count": 12,
   "id": "cb74a508",
   "metadata": {},
   "outputs": [],
   "source": [
    "def train_model(input_data, input_labels, optimizer, model,loss_func):\n",
    "    optimizer.zero_grad()\n",
    "\n",
    "    output = model(input_data)\n",
    "    loss = loss_func(output.squeeze(1), input_labels.float())\n",
    "\n",
    "    loss.backward()\n",
    "    optimizer.step()\n",
    "\n",
    "    return loss.item()\n",
    "\n",
    "def mini_batch(batch_size, input_data, label):\n",
    "    length = len(input_data)\n",
    "    batch_num = math.ceil(length / batch_size)\n",
    "\n",
    "    for i in range(batch_num):\n",
    "        input_batch, input_label = input_data[batch_size*i:batch_size * (i + 1), :], \\\n",
    "                                   label[batch_size*i:batch_size * (i + 1)]\n",
    "        yield input_batch, input_label\n",
    "\n",
    "\n",
    "def eval_model(input_data, input_labels, model,loss_func):\n",
    "    model.eval()\n",
    "    input_data, input_labels = torch.tensor(input_data), torch.tensor(input_labels)\n",
    "    output = model(input_data)\n",
    "    loss = loss_func(output.squeeze(1), input_labels.float())\n",
    "    \n",
    "    model.train()\n",
    "    return loss.item() "
   ]
  },
  {
   "cell_type": "code",
   "execution_count": 13,
   "id": "eb108545",
   "metadata": {},
   "outputs": [
    {
     "name": "stdout",
     "output_type": "stream",
     "text": [
      "epoch:0 Loss on training:0.48\n",
      "\tLoss on dev:0.49\n",
      "epoch:10 Loss on training:0.43\n",
      "\tLoss on dev:0.43\n",
      "epoch:20 Loss on training:0.45\n",
      "\tLoss on dev:0.42\n",
      "epoch:30 Loss on training:0.40\n",
      "\tLoss on dev:0.42\n",
      "epoch:40 Loss on training:0.40\n",
      "\tLoss on dev:0.42\n"
     ]
    }
   ],
   "source": [
    "epoch, N_epoch = 0, 50\n",
    "batch_size = 128\n",
    "model = FFNN_classifer(49)\n",
    "optimizer = optim.Adam(model.parameters())\n",
    "loss_func = nn.L1Loss()\n",
    "while epoch < N_epoch:\n",
    "    loss = 0\n",
    "    for input_batch, input_label in mini_batch(batch_size, train_X, train_Y):\n",
    "        input_batch, input_label = torch.tensor(input_batch), torch.tensor(input_label)\n",
    "        loss = train_model(input_batch, input_label, optimizer, model, loss_func)\n",
    "    if epoch % 10 == 0:\n",
    "        print(\"epoch:{} Loss on training:{:.2f}\".format(epoch, loss))\n",
    "        loss_val  = eval_model(validate_X, validate_Y,model,loss_func)\n",
    "        print(\"\\tLoss on dev:{:.2f}\".format(loss_val))\n",
    "    \n",
    "    epoch += 1\n"
   ]
  },
  {
   "cell_type": "markdown",
   "id": "408ba325",
   "metadata": {},
   "source": [
    "#### Remarks\n",
    "\n",
    "We can see the loss on training set is still less than the loss on dev set even if a dropout layer is included. That may indicate we include too many parameters in the model."
   ]
  },
  {
   "cell_type": "markdown",
   "id": "d6203c43",
   "metadata": {},
   "source": [
    "### Calculate the metric"
   ]
  },
  {
   "cell_type": "code",
   "execution_count": 15,
   "id": "3f4d8752",
   "metadata": {},
   "outputs": [
    {
     "name": "stdout",
     "output_type": "stream",
     "text": [
      "On Log Scale: MAD: 0.42\n",
      "On Normal Scale: MAD: 12.33\n"
     ]
    }
   ],
   "source": [
    "test_X, test_Y = test[:,:-1], test[:,-1]\n",
    "\n",
    "test_log_error = eval_model(test_X, np.log(test_Y),model, loss_func)\n",
    "\n",
    "model.eval()\n",
    "test_X = torch.tensor(test_X)\n",
    "test_normal_error = np.abs(np.exp(model(test_X).detach().numpy()).squeeze(1) - test_Y).sum() / test_Y.shape[0] \n",
    "\n",
    "print('On Log Scale: MAD: {:.2f}'.format(test_log_error))\n",
    "print('On Normal Scale: MAD: {:.2f}'.format(test_normal_error))"
   ]
  },
  {
   "cell_type": "markdown",
   "id": "76d78ee5",
   "metadata": {},
   "source": [
    "## Make Predictions"
   ]
  },
  {
   "cell_type": "code",
   "execution_count": 16,
   "id": "f3086cb7",
   "metadata": {},
   "outputs": [
    {
     "data": {
      "text/plain": [
       "FFNN_classifer(\n",
       "  (layer1): Linear(in_features=49, out_features=64, bias=True)\n",
       "  (layer2): Linear(in_features=64, out_features=128, bias=True)\n",
       "  (layer3): Linear(in_features=128, out_features=10, bias=True)\n",
       "  (layer4): Linear(in_features=10, out_features=1, bias=True)\n",
       "  (dropout): Dropout(p=0.2, inplace=False)\n",
       ")"
      ]
     },
     "execution_count": 16,
     "metadata": {},
     "output_type": "execute_result"
    }
   ],
   "source": [
    "test_data = pd.read_csv('./data/TestDataYremoved.csv')\n",
    "LID = test_data.LID.values\n",
    "pp_df = utils.pipeline_test(test_data)\n",
    "model.eval()"
   ]
  },
  {
   "cell_type": "code",
   "execution_count": 17,
   "id": "4fd12c35",
   "metadata": {},
   "outputs": [],
   "source": [
    "FORCLOSED = brf.predict(pp_df)\n",
    "NMONTHS = np.exp(model(torch.tensor(pp_df)).detach().numpy())"
   ]
  },
  {
   "cell_type": "code",
   "execution_count": 18,
   "id": "154047de",
   "metadata": {},
   "outputs": [],
   "source": [
    "prediction = np.c_[LID, FORCLOSED, NMONTHS]\n",
    "df = pd.DataFrame(prediction, columns = ['LID', 'FORCLOSED', 'NMONTHS'])\n",
    "df.FORCLOSED = df.FORCLOSED.map({0:False,1:True})\n",
    "df.LID = df.LID.astype('int64')"
   ]
  },
  {
   "cell_type": "code",
   "execution_count": 19,
   "id": "fa0cce51",
   "metadata": {},
   "outputs": [
    {
     "data": {
      "text/html": [
       "<div>\n",
       "<style scoped>\n",
       "    .dataframe tbody tr th:only-of-type {\n",
       "        vertical-align: middle;\n",
       "    }\n",
       "\n",
       "    .dataframe tbody tr th {\n",
       "        vertical-align: top;\n",
       "    }\n",
       "\n",
       "    .dataframe thead th {\n",
       "        text-align: right;\n",
       "    }\n",
       "</style>\n",
       "<table border=\"1\" class=\"dataframe\">\n",
       "  <thead>\n",
       "    <tr style=\"text-align: right;\">\n",
       "      <th></th>\n",
       "      <th>LID</th>\n",
       "      <th>FORCLOSED</th>\n",
       "      <th>NMONTHS</th>\n",
       "    </tr>\n",
       "  </thead>\n",
       "  <tbody>\n",
       "    <tr>\n",
       "      <th>0</th>\n",
       "      <td>492709308515</td>\n",
       "      <td>False</td>\n",
       "      <td>15.942357</td>\n",
       "    </tr>\n",
       "    <tr>\n",
       "      <th>1</th>\n",
       "      <td>687810129762</td>\n",
       "      <td>False</td>\n",
       "      <td>6.862568</td>\n",
       "    </tr>\n",
       "    <tr>\n",
       "      <th>2</th>\n",
       "      <td>382328232416</td>\n",
       "      <td>False</td>\n",
       "      <td>24.500307</td>\n",
       "    </tr>\n",
       "    <tr>\n",
       "      <th>3</th>\n",
       "      <td>315002225730</td>\n",
       "      <td>False</td>\n",
       "      <td>5.486807</td>\n",
       "    </tr>\n",
       "    <tr>\n",
       "      <th>4</th>\n",
       "      <td>429983647228</td>\n",
       "      <td>False</td>\n",
       "      <td>21.150366</td>\n",
       "    </tr>\n",
       "  </tbody>\n",
       "</table>\n",
       "</div>"
      ],
      "text/plain": [
       "            LID  FORCLOSED    NMONTHS\n",
       "0  492709308515      False  15.942357\n",
       "1  687810129762      False   6.862568\n",
       "2  382328232416      False  24.500307\n",
       "3  315002225730      False   5.486807\n",
       "4  429983647228      False  21.150366"
      ]
     },
     "execution_count": 19,
     "metadata": {},
     "output_type": "execute_result"
    }
   ],
   "source": [
    "df.head()"
   ]
  },
  {
   "cell_type": "code",
   "execution_count": 20,
   "id": "0f811fc7",
   "metadata": {},
   "outputs": [],
   "source": [
    "df.to_csv('submission.csv', index = False)"
   ]
  }
 ],
 "metadata": {
  "kernelspec": {
   "display_name": "Python 3",
   "language": "python",
   "name": "python3"
  },
  "language_info": {
   "codemirror_mode": {
    "name": "ipython",
    "version": 3
   },
   "file_extension": ".py",
   "mimetype": "text/x-python",
   "name": "python",
   "nbconvert_exporter": "python",
   "pygments_lexer": "ipython3",
   "version": "3.9.6"
  }
 },
 "nbformat": 4,
 "nbformat_minor": 5
}
